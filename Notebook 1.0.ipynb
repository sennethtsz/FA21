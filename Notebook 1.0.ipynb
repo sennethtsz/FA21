{
 "cells": [
  {
   "cell_type": "markdown",
   "metadata": {
    "deletable": false,
    "editable": false,
    "nbgrader": {
     "grade": false,
     "grade_id": "cell-166d0b0bd7d2633f",
     "locked": true,
     "schema_version": 1,
     "solution": false
    }
   },
   "source": [
    "# Python review: Values, variables, types, lists, and strings\n",
    "\n",
    "These first few notebooks are a set of exercises designed to reinforce various aspects of Python programming."
   ]
  },
  {
   "cell_type": "markdown",
   "metadata": {
    "deletable": false,
    "editable": false,
    "nbgrader": {
     "grade": false,
     "grade_id": "cell-92648f77b2c73f26",
     "locked": true,
     "schema_version": 1,
     "solution": false
    }
   },
   "source": [
    "**Study hint: Read the test code!** You'll notice that most of the exercises below have a place for you to code up your answer followed by a \"test cell.\" That's a code cell that checks the output of your code to see whether it appears to produce correct results. You can often learn a lot by reading the test code. In fact, sometimes it gives you a hint about how to approach the problem. As such, we encourage you to try to read the test cells even if they seem cryptic, which is deliberate!\n",
    "\n",
    "**Debugging tip: Read assertions.** The test cells often run an `assert` statement to see whether some condition that it thinks should be true is true. If an assertion fails, look at the condition being checked and use that as a guide to help you debug. For example, if an assertion reads, `assert a + b == 3`, and that fails, inspect the values and types of `a` and `b` to help determine why their sum does not equal 3."
   ]
  },
  {
   "cell_type": "markdown",
   "metadata": {
    "deletable": false,
    "editable": false,
    "nbgrader": {
     "grade": false,
     "grade_id": "cell-9a91d97e7aa9c67f",
     "locked": true,
     "schema_version": 1,
     "solution": false
    }
   },
   "source": [
    "**Exercise 0** (1 point). Run the code cell below. It should display the output string, `Hello, world!`."
   ]
  },
  {
   "cell_type": "code",
   "execution_count": 1,
   "metadata": {
    "deletable": false,
    "editable": false,
    "nbgrader": {
     "grade": true,
     "grade_id": "hello_world_test",
     "locked": true,
     "points": 1,
     "schema_version": 1,
     "solution": false
    }
   },
   "outputs": [
    {
     "name": "stdout",
     "output_type": "stream",
     "text": [
      "Hello, world!\n"
     ]
    }
   ],
   "source": [
    "print(\"Hello, world!\")"
   ]
  },
  {
   "cell_type": "markdown",
   "metadata": {
    "deletable": false,
    "editable": false,
    "nbgrader": {
     "grade": false,
     "grade_id": "cell-2de1352e57946ac5",
     "locked": true,
     "schema_version": 1,
     "solution": false
    }
   },
   "source": [
    "**Exercise 1** (`x_float_test`: 1 point). Create a variable named `x_float` whose numerical value is one (1) and whose type is *floating-point* (i.e., `float`)."
   ]
  },
  {
   "cell_type": "code",
   "execution_count": 2,
   "metadata": {
    "collapsed": true,
    "nbgrader": {
     "grade": false,
     "grade_id": "x_float",
     "locked": false,
     "schema_version": 1,
     "solution": true
    }
   },
   "outputs": [],
   "source": [
    "###\n",
    "x_float = float(1)\n",
    "###\n"
   ]
  },
  {
   "cell_type": "code",
   "execution_count": 3,
   "metadata": {
    "deletable": false,
    "editable": false,
    "nbgrader": {
     "grade": true,
     "grade_id": "x_float_test",
     "locked": true,
     "points": 1,
     "schema_version": 1,
     "solution": false
    }
   },
   "outputs": [
    {
     "name": "stdout",
     "output_type": "stream",
     "text": [
      "\n",
      "(Passed!)\n"
     ]
    }
   ],
   "source": [
    "# `x_float_test`: Test cell\n",
    "assert x_float == 1, f\"`x_float` has the wrong value ({x_float} rather than 1.0)\"\n",
    "assert type(x_float) is float, f\"`type(x_float)` == {type(x_float)} rather than `float`\"\n",
    "print(\"\\n(Passed!)\")"
   ]
  },
  {
   "cell_type": "markdown",
   "metadata": {
    "deletable": false,
    "editable": false,
    "nbgrader": {
     "grade": false,
     "grade_id": "cell-2b53cd92e2ac58a1",
     "locked": true,
     "schema_version": 1,
     "solution": false
    }
   },
   "source": [
    "**Exercise 2** (`strcat_ba_test`: 1 point). Complete the following function, `strcat_ba(a, b)`, so that given two strings, `a` and `b`, it returns the concatenation of `b` followed by `a` (pay attention to the order in these instructions!)."
   ]
  },
  {
   "cell_type": "code",
   "execution_count": 4,
   "metadata": {
    "collapsed": true,
    "nbgrader": {
     "grade": false,
     "grade_id": "strcat_ba",
     "locked": false,
     "schema_version": 1,
     "solution": true
    }
   },
   "outputs": [],
   "source": [
    "def strcat_ba(a, b):\n",
    "    assert type(a) is str, f\"Input argument `a` has `type(a)` is {type(a)} rather than `str`\"\n",
    "    assert type(b) is str, f\"Input argument `b` has `type(b)` is {type(b)} rather than `str`\"\n",
    "    return b+a\n"
   ]
  },
  {
   "cell_type": "code",
   "execution_count": 5,
   "metadata": {
    "deletable": false,
    "editable": false,
    "nbgrader": {
     "grade": true,
     "grade_id": "strcat_ba_test",
     "locked": true,
     "points": 1,
     "schema_version": 1,
     "solution": false
    }
   },
   "outputs": [
    {
     "name": "stdout",
     "output_type": "stream",
     "text": [
      "strcat_ba(\"npuoq\", \"mms\") == \"mmsnpuoq\"\n",
      "\n",
      "(Passed!)\n"
     ]
    }
   ],
   "source": [
    "# `strcat_ba_test`: Test cell\n",
    "\n",
    "# Workaround:  # Python 3.5.2 does not have `random.choices()` (available in 3.6+)\n",
    "def random_letter():\n",
    "    from random import choice\n",
    "    return choice('abcdefghijklmnopqrstuvwxyz')\n",
    "\n",
    "def random_string(n, fun=random_letter):\n",
    "    return ''.join([str(fun()) for _ in range(n)])\n",
    "\n",
    "a = random_string(5)\n",
    "b = random_string(3)\n",
    "c = strcat_ba(a, b)\n",
    "print('strcat_ba(\"{}\", \"{}\") == \"{}\"'.format(a, b, c))\n",
    "assert len(c) == len(a) + len(b), \"`c` has the wrong length: {len(c)} rather than {len(a)+len(b)}\"\n",
    "assert c[:len(b)] == b\n",
    "assert c[-len(a):] == a\n",
    "print(\"\\n(Passed!)\")"
   ]
  },
  {
   "cell_type": "markdown",
   "metadata": {
    "deletable": false,
    "editable": false,
    "nbgrader": {
     "grade": false,
     "grade_id": "cell-75fe9a45cd6b3f9a",
     "locked": true,
     "schema_version": 1,
     "solution": false
    }
   },
   "source": [
    "**Exercise 3** (`strcat_list_test`: 2 points). Complete the following function, `strcat_list(L)`, which generalizes the previous function: given a *list* of strings, `L[:]`, returns the concatenation of the strings in reverse order. For example:\n",
    "\n",
    "```python\n",
    "    strcat_list(['abc', 'def', 'ghi']) == 'ghidefabc'\n",
    "```"
   ]
  },
  {
   "cell_type": "code",
   "execution_count": 6,
   "metadata": {
    "collapsed": true,
    "nbgrader": {
     "grade": false,
     "grade_id": "strcat_list",
     "locked": false,
     "schema_version": 1,
     "solution": true
    }
   },
   "outputs": [],
   "source": [
    "def strcat_list(L):\n",
    "    assert type(L) is list\n",
    "    sen = ''\n",
    "    for n in reversed(range(len(L))):\n",
    "        sen += L[n]\n",
    "    return sen\n"
   ]
  },
  {
   "cell_type": "code",
   "execution_count": 7,
   "metadata": {
    "deletable": false,
    "editable": false,
    "nbgrader": {
     "grade": true,
     "grade_id": "strcat_list_test",
     "locked": true,
     "points": 2,
     "schema_version": 1,
     "solution": false
    }
   },
   "outputs": [
    {
     "name": "stdout",
     "output_type": "stream",
     "text": [
      "L == ['xkk', 'ijb', 'iud', 'cpw', 'swr', 'tsv']\n",
      "strcat_list(L) == 'tsvswrcpwiudijbxkk'\n",
      "\n",
      "(Passed!)\n"
     ]
    }
   ],
   "source": [
    "# `strcat_list_test`: Test cell\n",
    "n = 3\n",
    "nL = 6\n",
    "L = [random_string(n) for _ in range(nL)]\n",
    "Lc = strcat_list(L)\n",
    "\n",
    "print('L == {}'.format(L))\n",
    "print('strcat_list(L) == \\'{}\\''.format(Lc))\n",
    "assert all([Lc[i*n:(i+1)*n] == L[nL-i-1] for i, x in zip(range(nL), L)])\n",
    "print(\"\\n(Passed!)\")"
   ]
  },
  {
   "cell_type": "markdown",
   "metadata": {
    "deletable": false,
    "editable": false,
    "nbgrader": {
     "grade": false,
     "grade_id": "cell-06e37dd37379b6b8",
     "locked": true,
     "schema_version": 1,
     "solution": false
    }
   },
   "source": [
    "**Exercise 4** (`floor_fraction_test`: 1 point). Suppose you are given two variables, `a` and `b`, whose values are the real numbers, $a \\geq 0$ (non-negative) and $b > 0$ (positive). Complete the function, `floor_fraction(a, b)` so that it returns $\\left\\lfloor\\frac{a}{b}\\right\\rfloor$, that is, the *floor* of $\\frac{a}{b}$. The *type* of the returned value must be `int` (an integer)."
   ]
  },
  {
   "cell_type": "code",
   "execution_count": 8,
   "metadata": {
    "collapsed": true,
    "nbgrader": {
     "grade": false,
     "grade_id": "floor_fraction",
     "locked": false,
     "schema_version": 1,
     "solution": true
    }
   },
   "outputs": [],
   "source": [
    "def is_number(x):\n",
    "    \"\"\"Returns `True` if `x` is a number-like type, e.g., `int`, `float`, `Decimal()`, ...\"\"\"\n",
    "    from numbers import Number\n",
    "    return isinstance(x, Number)\n",
    "    \n",
    "def floor_fraction(a, b):\n",
    "    assert is_number(a) and a >= 0\n",
    "    assert is_number(b) and b > 0\n",
    "    return int(a//b)\n"
   ]
  },
  {
   "cell_type": "code",
   "execution_count": 9,
   "metadata": {
    "deletable": false,
    "editable": false,
    "nbgrader": {
     "grade": true,
     "grade_id": "floor_fraction_test",
     "locked": true,
     "points": 1,
     "schema_version": 1,
     "solution": false
    }
   },
   "outputs": [
    {
     "name": "stdout",
     "output_type": "stream",
     "text": [
      "floor_fraction(0.5543643669954365, 0.9971822565664523) == floor(0.5559308374622023) == 0\n",
      "\n",
      "(Passed!)\n"
     ]
    }
   ],
   "source": [
    "# `floor_fraction_test`: Test cell\n",
    "from random import random\n",
    "a = random()\n",
    "b = random()\n",
    "c = floor_fraction(a, b)\n",
    "\n",
    "print('floor_fraction({}, {}) == floor({}) == {}'.format(a, b, a/b, c))\n",
    "assert b*c <= a <= b*(c+1)\n",
    "assert type(c) is int, f\"type(c) == {type(c)} rather than `int`\"\n",
    "print('\\n(Passed!)')"
   ]
  },
  {
   "cell_type": "markdown",
   "metadata": {
    "deletable": false,
    "editable": false,
    "nbgrader": {
     "grade": false,
     "grade_id": "cell-e98590d39e95bc25",
     "locked": true,
     "schema_version": 1,
     "solution": false
    }
   },
   "source": [
    "**Exercise 5** (`ceiling_fraction_test`: 1 point). Complete the function, `ceiling_fraction(a, b)`, which for any numeric inputs, `a` and `b`, corresponding to real numbers, $a \\geq 0$ and $b > 0$, returns $\\left\\lceil\\frac{a}{b}\\right\\rceil$, that is, the *ceiling* of $\\frac{a}{b}$. The type of the returned value must be `int`."
   ]
  },
  {
   "cell_type": "code",
   "execution_count": 10,
   "metadata": {
    "collapsed": true,
    "nbgrader": {
     "grade": false,
     "grade_id": "ceiling_fraction",
     "locked": false,
     "schema_version": 1,
     "solution": true
    }
   },
   "outputs": [],
   "source": [
    "def ceiling_fraction(a, b):\n",
    "    assert is_number(a) and a >= 0\n",
    "    assert is_number(b) and b > 0\n",
    "    return int(a//b+1)\n"
   ]
  },
  {
   "cell_type": "code",
   "execution_count": 11,
   "metadata": {
    "deletable": false,
    "editable": false,
    "nbgrader": {
     "grade": true,
     "grade_id": "ceiling_fraction_test",
     "locked": true,
     "points": 1,
     "schema_version": 1,
     "solution": false
    }
   },
   "outputs": [
    {
     "name": "stdout",
     "output_type": "stream",
     "text": [
      "ceiling_fraction(0.22734314169562408, 0.6546065642738632) == ceiling(0.34729737540565225) == 1\n",
      "\n",
      "(Passed!)\n"
     ]
    }
   ],
   "source": [
    "# `ceiling_fraction_test`: Test cell\n",
    "from random import random\n",
    "a = random()\n",
    "b = random()\n",
    "c = ceiling_fraction(a, b)\n",
    "print('ceiling_fraction({}, {}) == ceiling({}) == {}'.format(a, b, a/b, c))\n",
    "assert b*(c-1) <= a <= b*c\n",
    "assert type(c) is int\n",
    "print(\"\\n(Passed!)\")"
   ]
  },
  {
   "cell_type": "code",
   "execution_count": 12,
   "metadata": {},
   "outputs": [
    {
     "name": "stdout",
     "output_type": "stream",
     "text": [
      "2.9999999999999996\n",
      "ceiling_fraction(0.3, 0.1) == ceiling(2.9999999999999996) == 3\n"
     ]
    }
   ],
   "source": [
    "a = 0.3\n",
    "b = 0.1\n",
    "c = ceiling_fraction(a, b)\n",
    "print(f\"{a/b}\")\n",
    "print('ceiling_fraction({}, {}) == ceiling({}) == {}'.format(a, b, a/b, c))\n",
    "assert b*(c-1) <= a <= b*c\n",
    "assert type(c) is int"
   ]
  },
  {
   "cell_type": "markdown",
   "metadata": {},
   "source": [
    "**Exercise 6** (`report_exam_avg_test`: 1 point). Let `a`, `b`, and `c` represent three exam scores as numerical values. Complete the function, `report_exam_avg(a, b, c)` so that it computes the average score (equally weighted) and returns the string, `'Your average score: XX'`, where `XX` is the average rounded to one decimal place. For example:\n",
    "\n",
    "```python\n",
    "    report_exam_avg(100, 95, 80) == 'Your average score: 91.7'\n",
    "```"
   ]
  },
  {
   "cell_type": "code",
   "execution_count": 13,
   "metadata": {
    "collapsed": true,
    "nbgrader": {
     "grade": false,
     "grade_id": "cell-a117d6495f42b850",
     "locked": false,
     "schema_version": 1,
     "solution": true
    }
   },
   "outputs": [],
   "source": [
    "def report_exam_avg(a, b, c):\n",
    "    assert is_number(a) and is_number(b) and is_number(c)\n",
    "    avg = round((a+b+c)/3, 1)\n",
    "    return f'Your average score: {avg}'\n",
    "    \n"
   ]
  },
  {
   "cell_type": "code",
   "execution_count": 14,
   "metadata": {
    "deletable": false,
    "editable": false,
    "nbgrader": {
     "grade": true,
     "grade_id": "report_exam_avg_test",
     "locked": true,
     "points": 1,
     "schema_version": 1,
     "solution": false
    }
   },
   "outputs": [
    {
     "name": "stdout",
     "output_type": "stream",
     "text": [
      "Your average score: 91.7\n",
      "Checking some additional randomly generated cases:\n",
      "44.71298335472345, 36.9450060978996, 14.030835280951514 -> 'Your average score: 31.9' [0.0037250888084751446]\n",
      "75.55268166218043, 98.98128248243295, 9.379903008569945 -> 'Your average score: 61.3' [0.0046223843944517284]\n",
      "88.86172427982089, 60.67942610840822, 37.940299756218266 -> 'Your average score: 62.5' [0.0061832851842117025]\n",
      "30.836905050666672, 6.719517938986163, 60.21572657566704 -> 'Your average score: 32.6' [0.009283478226710903]\n",
      "92.69909776064762, 42.67035578703917, 57.88057353416668 -> 'Your average score: 64.4' [0.016675693951147725]\n",
      "42.68209728491724, 68.13443399916764, 67.69226858698089 -> 'Your average score: 59.5' [0.0029332903552585776]\n",
      "29.349403732326063, 56.519221092001935, 43.1209880115586 -> 'Your average score: 43.0' [0.003462388037803521]\n",
      "33.79643366756974, 15.41696263737209, 34.30335998203521 -> 'Your average score: 27.8' [0.038918762325674074]\n",
      "95.51264366269885, 96.30724402311071, 12.910985008209263 -> 'Your average score: 68.2' [0.043624231339596996]\n",
      "36.302090170549626, 45.349856619871, 31.59683535489274 -> 'Your average score: 37.7' [0.04959404843778259]\n",
      "\n",
      "(Passed!)\n"
     ]
    }
   ],
   "source": [
    "# `report_exam_avg_test`: Test cell\n",
    "msg = report_exam_avg(100, 95, 80)\n",
    "print(msg)\n",
    "assert msg == 'Your average score: 91.7'\n",
    "\n",
    "print(\"Checking some additional randomly generated cases:\")\n",
    "for _ in range(10):\n",
    "    ex1 = random() * 100\n",
    "    ex2 = random() * 100\n",
    "    ex3 = random() * 100\n",
    "    msg = report_exam_avg(ex1, ex2, ex3)\n",
    "    ex_rounded_avg = float(msg.split()[-1])\n",
    "    abs_err = abs(ex_rounded_avg*3 - (ex1 + ex2 + ex3)) / 3\n",
    "    print(\"{}, {}, {} -> '{}' [{}]\".format(ex1, ex2, ex3, msg, abs_err))\n",
    "    assert abs_err <= 0.05\n",
    "\n",
    "print(\"\\n(Passed!)\")"
   ]
  },
  {
   "cell_type": "markdown",
   "metadata": {
    "deletable": false,
    "editable": false,
    "nbgrader": {
     "grade": false,
     "grade_id": "cell-24a78862d8e3bba0",
     "locked": true,
     "schema_version": 1,
     "solution": false
    }
   },
   "source": [
    "**Exercise 7** (`count_word_lengths_test`: 2 points). Write a function `count_word_lengths(s)` that, given a string consisting of words separated by spaces, returns a list containing the length of each word. Words will consist of lowercase alphabetic characters, and they may be separated by multiple consecutive spaces. If a string is empty or has no spaces, the function should return an empty list.\n",
    "\n",
    "For instance, in this code sample,\n",
    "\n",
    "```python\n",
    "   count_word_lengths('the quick  brown   fox jumped over     the lazy  dog') == [3, 5, 5, 3, 6, 4, 3, 4, 3]`\n",
    "```\n",
    "\n",
    "the input string consists of nine (9) words whose respective lengths are shown in the list."
   ]
  },
  {
   "cell_type": "code",
   "execution_count": 15,
   "metadata": {
    "collapsed": true,
    "nbgrader": {
     "grade": false,
     "grade_id": "count_word_lengths",
     "locked": false,
     "schema_version": 1,
     "solution": true
    }
   },
   "outputs": [],
   "source": [
    "def count_word_lengths(s):\n",
    "    assert all([x.isalpha() or x == ' ' for x in s])\n",
    "    assert type(s) is str\n",
    "    ls = []\n",
    "    for word in s.split():\n",
    "        ls.append(len(word))\n",
    "    return ls\n",
    "    \n"
   ]
  },
  {
   "cell_type": "code",
   "execution_count": 16,
   "metadata": {
    "deletable": false,
    "editable": false,
    "nbgrader": {
     "grade": true,
     "grade_id": "count_word_lengths_test",
     "locked": true,
     "points": 2,
     "schema_version": 1,
     "solution": false
    }
   },
   "outputs": [
    {
     "name": "stdout",
     "output_type": "stream",
     "text": [
      "Test 1: count_word_lengths('the quick brown fox jumped over the lazy dog') == [3, 5, 5, 3, 6, 4, 3, 4, 3]\n",
      "Test 2: count_word_lengths(' rtpzf i gfq ojr trxmjc t hwwcwh  ugd fo') == '[5, 1, 3, 3, 6, 1, 6, 3, 2]'\n",
      "  => 'rtpzf'\n",
      "  => 'i'\n",
      "  => 'gfq'\n",
      "  => 'ojr'\n",
      "  => 'trxmjc'\n",
      "  => 't'\n",
      "  => 'hwwcwh'\n",
      "  => 'ugd'\n",
      "  => 'fo'\n",
      "Test 3: Empty strings...\n",
      "[3]\n",
      "\n",
      "(Passed!)\n"
     ]
    }
   ],
   "source": [
    "# `count_word_lengths_test`: Test cell\n",
    "\n",
    "# Test 1: Example\n",
    "qbf_str = 'the quick brown fox jumped over the lazy dog'\n",
    "qbf_lens = count_word_lengths(qbf_str)\n",
    "print(\"Test 1: count_word_lengths('{}') == {}\".format(qbf_str, qbf_lens))\n",
    "assert qbf_lens == [3, 5, 5, 3, 6, 4, 3, 4, 3]\n",
    "\n",
    "# Test 2: Random strings\n",
    "from random import choice # 3.5.2 does not have `choices()` (available in 3.6+)\n",
    "#return ''.join([choice('abcdefghijklmnopqrstuvwxyz') for _ in range(n)])\n",
    "\n",
    "def random_letter_or_space(pr_space=0.15):\n",
    "    from random import choice, random\n",
    "    is_space = (random() <= pr_space)\n",
    "    if is_space:\n",
    "        return ' '\n",
    "    return random_letter()\n",
    "\n",
    "S_LEN = 40\n",
    "W_SPACE = 1 / 6\n",
    "rand_str = random_string(S_LEN, fun=random_letter_or_space)\n",
    "rand_lens = count_word_lengths(rand_str)\n",
    "print(\"Test 2: count_word_lengths('{}') == '{}'\".format(rand_str, rand_lens))\n",
    "c = 0\n",
    "while c < len(rand_str) and rand_str[c] == ' ':\n",
    "    c += 1\n",
    "for k in rand_lens:\n",
    "    print(\"  => '{}'\".format (rand_str[c:c+k]))\n",
    "    assert (c+k) == len(rand_str) or rand_str[c+k] == ' '\n",
    "    c += k\n",
    "    while c < len(rand_str) and rand_str[c] == ' ':\n",
    "        c += 1\n",
    "    \n",
    "# Test 3: Empty string\n",
    "print(\"Test 3: Empty strings...\")\n",
    "assert count_word_lengths('') == []\n",
    "assert count_word_lengths('   ') == []\n",
    "print(count_word_lengths('the'))\n",
    "\n",
    "print(\"\\n(Passed!)\")"
   ]
  },
  {
   "cell_type": "markdown",
   "metadata": {},
   "source": [
    "**Fin!** You've reached the end of this part. Don't forget to restart and run all cells again to make sure it's all working when run in sequence; and make sure your work passes the submission process. Good luck!"
   ]
  }
 ],
 "metadata": {
  "celltoolbar": "Create Assignment",
  "kernelspec": {
   "display_name": "Python 3.8",
   "language": "python",
   "name": "python38"
  },
  "language_info": {
   "codemirror_mode": {
    "name": "ipython",
    "version": 3
   },
   "file_extension": ".py",
   "mimetype": "text/x-python",
   "name": "python",
   "nbconvert_exporter": "python",
   "pygments_lexer": "ipython3",
   "version": "3.8.7"
  },
  "toc": {
   "base_numbering": 1,
   "nav_menu": {},
   "number_sections": true,
   "sideBar": true,
   "skip_h1_title": false,
   "title_cell": "Table of Contents",
   "title_sidebar": "Contents",
   "toc_cell": false,
   "toc_position": {},
   "toc_section_display": true,
   "toc_window_display": false
  }
 },
 "nbformat": 4,
 "nbformat_minor": 2
}
