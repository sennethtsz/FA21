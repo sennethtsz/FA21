{
 "cells": [
  {
   "cell_type": "markdown",
   "metadata": {
    "deletable": false,
    "editable": false,
    "nbgrader": {
     "grade": false,
     "grade_id": "cell-6f2b19db531e74fd",
     "locked": true,
     "schema_version": 1,
     "solution": false
    }
   },
   "source": [
    "# Part 2: Mining the web: Web APIs\n",
    "\n",
    "We hope the preceding exercise was painful: even with tools to process HTML, it is rough downloading raw HTML and trying to extract information from it!\n",
    "\n",
    "> Can you think of any other reasons why scraping websites for data in this way is not a good idea?\n",
    "\n",
    "Luckily, many websites provide an application programming interface (API) for querying their data or otherwise accessing their services from your programs. For instance, Twitter provides a web API for gathering tweets, Flickr provides one for gathering image data, and Github for accessing information about repository histories.\n",
    "\n",
    "These kinds of web APIs are much easier to use than, for instance, the preceding technique which scrapes raw web pages and then has to parse the resulting HTML. Moreover, there are more scalable in the sense that the web servers can transmit structured data in a less verbose form than raw HTML.\n",
    "\n",
    "As a starting example, here is some code to look at the activity on Github related to the public version of one of our course's materials."
   ]
  },
  {
   "cell_type": "code",
   "execution_count": 1,
   "metadata": {
    "deletable": false,
    "editable": false,
    "nbgrader": {
     "grade": false,
     "grade_id": "cell-e969cac2e271f5ec",
     "locked": true,
     "schema_version": 1,
     "solution": false
    }
   },
   "outputs": [
    {
     "data": {
      "text/markdown": [
       "{'Server': 'GitHub.com', 'Date': 'Sun, 03 Oct 2021 06:20:45 GMT', 'Content-Type': '**application/json**; charset=utf-8', 'Cache-Control': 'public, max-age=60, s-maxage=60', 'Vary': 'Accept, Accept-Encoding, Accept, X-Requested-With', 'ETag': 'W/\"d8a79dd6eb8403cd99edd68f10fbc429697f719ddd9945d5227a3366fa41bfdc\"', 'Last-Modified': 'Thu, 30 Sep 2021 23:53:20 GMT', 'X-Poll-Interval': '60', 'X-GitHub-Media-Type': 'github.v3; format=json', 'Access-Control-Expose-Headers': 'ETag, Link, Location, Retry-After, X-GitHub-OTP, X-RateLimit-Limit, X-RateLimit-Remaining, X-RateLimit-Used, X-RateLimit-Resource, X-RateLimit-Reset, X-OAuth-Scopes, X-Accepted-OAuth-Scopes, X-Poll-Interval, X-GitHub-Media-Type, Deprecation, Sunset', 'Access-Control-Allow-Origin': '*', 'Strict-Transport-Security': 'max-age=31536000; includeSubdomains; preload', 'X-Frame-Options': 'deny', 'X-Content-Type-Options': 'nosniff', 'X-XSS-Protection': '0', 'Referrer-Policy': 'origin-when-cross-origin, strict-origin-when-cross-origin', 'Content-Security-Policy': \"default-src 'none'\", 'Content-Encoding': 'gzip', 'X-RateLimit-Limit': '60', 'X-RateLimit-Remaining': '59', 'X-RateLimit-Reset': '1633245644', 'X-RateLimit-Resource': 'core', 'X-RateLimit-Used': '1', 'Accept-Ranges': 'bytes', 'Content-Length': '2342', 'X-GitHub-Request-Id': 'E536:0CC3:2B2BF77:2D3E14E:61594BBC'}"
      ],
      "text/plain": [
       "<IPython.core.display.Markdown object>"
      ]
     },
     "metadata": {},
     "output_type": "display_data"
    }
   ],
   "source": [
    "from IPython.display import display, Markdown\n",
    "\n",
    "import requests\n",
    "response = requests.get('https://api.github.com/repos/hpcgarage/prymer/events')\n",
    "\n",
    "headers_highlighted = str(response.headers).replace(\"'Content-Type': 'application/json;\",\n",
    "                                                    \"'Content-Type': '**application/json**;\")\n",
    "display(Markdown(headers_highlighted))"
   ]
  },
  {
   "cell_type": "markdown",
   "metadata": {
    "deletable": false,
    "editable": false,
    "nbgrader": {
     "grade": false,
     "grade_id": "cell-2a08d680885303e5",
     "locked": true,
     "schema_version": 1,
     "solution": false
    }
   },
   "source": [
    "Note the `Content-Type` of the response:"
   ]
  },
  {
   "cell_type": "code",
   "execution_count": 2,
   "metadata": {
    "deletable": false,
    "editable": false,
    "nbgrader": {
     "grade": false,
     "grade_id": "cell-89ebf4242e6c1940",
     "locked": true,
     "schema_version": 1,
     "solution": false
    }
   },
   "outputs": [
    {
     "name": "stdout",
     "output_type": "stream",
     "text": [
      "application/json; charset=utf-8\n"
     ]
    }
   ],
   "source": [
    "print(response.headers['Content-Type'])"
   ]
  },
  {
   "cell_type": "markdown",
   "metadata": {
    "deletable": false,
    "editable": false,
    "nbgrader": {
     "grade": false,
     "grade_id": "cell-752159137c70eb17",
     "locked": true,
     "schema_version": 1,
     "solution": false
    }
   },
   "source": [
    "The response is in JSON format, which is an open format for exchanging semi-structured data. (JSON stands for **J**ava**S**cript **O**bject **N**otation.) JSON is designed to be human-readable and machine-readable, and maps especially well in Python to nested dictionaries. Let's take a look.\n",
    "\n",
    "> See also [this tutorial](https://www.w3schools.com/js/js_json_intro.asp) for a JSON primer. JSON is among _the_ universal formats for sharing data on the web; see, for instance, https://www.sitepoint.com/10-example-json-files/."
   ]
  },
  {
   "cell_type": "code",
   "execution_count": 3,
   "metadata": {
    "deletable": false,
    "editable": false,
    "nbgrader": {
     "grade": false,
     "grade_id": "cell-4bcf26ae80bab53b",
     "locked": true,
     "schema_version": 1,
     "solution": false
    },
    "scrolled": true
   },
   "outputs": [
    {
     "name": "stdout",
     "output_type": "stream",
     "text": [
      "<class 'list'>\n",
      "[\n",
      "  {\n",
      "    \"actor\": {\n",
      "      \"avatar_url\": \"https://avatars.githubusercontent.com/u/91442574?\",\n",
      "      \"display_login\": \"bxiao98\",\n",
      "      \"gravatar_id\": \"\",\n",
      "      \"id\": 91442574,\n",
      "      \"login\": \"bxiao98\",\n",
      "      \"url\": \"https://api.github.com/users/bxiao98\"\n",
      "    },\n",
      "    \"created_at\": \"2021-09-30T23:53:20Z\",\n",
      "    \"id\": \"18232436745\",\n",
      "    \"org\": {\n",
      "      \"avatar_url\": \"https://avatars.githubusercontent.com/u/6626190?\",\n",
      "      \"gravatar_id\": \"\",\n",
      "      \"id\": 6626190,\n",
      "      \"login\": \"hpcgarage\",\n",
      "      \"url\": \"https://api.github.com/orgs/hpcgarage\"\n",
      "    },\n",
      "    \"payload\": {\n",
      "      \"action\": \"started\"\n",
      "    },\n",
      "    \"public\": true,\n",
      "    \"repo\": {\n",
      "      \"id\": 202786912,\n",
      "      \"name\": \"hpcgarage/prymer\",\n",
      "      \"url\": \"https://api.github.com/repos/hpcgarage/prymer\"\n",
      "    },\n",
      "    \"type\": \"WatchEvent\"\n",
      "  },\n",
      "  {\n",
      "    \"actor\": {\n",
      "      \"avatar_url\": \"https://avatars.githubusercontent.com/u/38662177?\",\n",
      "      \"display_login\": \"timothywlim\",\n",
      "      \"gravatar_id\": \"\",\n",
      "      \"id\": 38662177,\n",
      "      \"login\": \"timothywlim\",\n",
      "      \"url\": \"https://api.github.com/users/timothywlim\"\n",
      "    },\n",
      "    \"created_at\": \"2021-09-03T21:16:17Z\",\n",
      "    \"id\": \"17849154819\",\n",
      "    \"org\": {\n",
      "      \"avatar_url\": \"https://avatars.githubusercontent.com/u/6626190?\",\n",
      "      \"gravatar_id\": \"\",\n",
      "      \"id\": 6626190,\n",
      "      \"login\": \"hpcgarage\",\n",
      "      \"url\": \"https://api.github.com/orgs/hpcgarage\"\n",
      "    },\n",
      "    \"payload\": {\n",
      "      \"forkee\": {\n",
      "        \"archive_url\": \"https://api.github.com/repos/timothywlim/prymer/{archive_format}{/ref}\",\n",
      "        \"archived\": false,\n",
      "        \"assignees_url\": \"https://api.github.com/repos/timothywlim/prymer/assignees{/user}\",\n",
      "        \"blobs_url\": \"https://api.github.com/repos/timothywlim/prymer/git/blobs{/sha}\",\n",
      "        \"branches_url\": \"https://api.github.com/repos/timothywlim/prymer/branches{/branch}\",\n",
      "        \"clone_url\": \"https://github.com/timothywlim/prymer.git\",\n",
      "        \"collaborators_url\": \"https://api.github.com/repos/timothywlim/prymer/collaborators{/collaborator}\",\n",
      "        \"comments_url\": \"https://api.github.com/repos/timothywlim/prymer/comments{/number}\",\n",
      "        \"commits_url\": \"https://api.github.com/repos/timothywlim/prymer/commits{/sha}\",\n",
      "        \"compare_url\": \"https://api.github.com/repos/timothywlim/prymer/compare/{base}...{head}\",\n",
      "        \"contents_url\": \"https://api.github.com/repos/timothywlim/prymer/contents/{+path}\",\n",
      "        \"contributors_url\": \"https://api.github.com/repos/timothywlim/prymer/contributors\",\n",
      "        \"created_at\": \"2021-09-03T21:16:16Z\",\n",
      "        \"default_branch\": \"master\",\n",
      "        \"deployments_url\": \"https://api.github.com/repos/timothywlim/prymer/deployments\",\n",
      "        \"description\": \"A Python primer for Georgia Tech's CSE 6040/x: Computing for Data Analysis\",\n",
      "        \"disabled\": false,\n",
      "        \"downloads_url\": \"https://api.github.com/repos/timothywlim/prymer/downloads\",\n",
      "        \"events_url\": \"https://api.github.com/repos/timothywlim/prymer/events\",\n",
      "        \"fork\": true,\n",
      "        \"forks\": 0,\n",
      "        \"forks_count\": 0,\n",
      "        \"forks_url\": \"https://api.github.com/repos/timothywlim/prymer/forks\",\n",
      "        \"full_name\": \"timothywlim/prymer\",\n",
      "        \"git_commits_url\": \"https://api.github.com/repos/timothywlim/prymer/git/commits{/sha}\",\n",
      "        \"git_refs_url\": \"https://api.github.com/repos/timothywlim/prymer/git/refs{/sha}\",\n",
      "        \"git_tags_url\": \"https://api.github.com/repos/timothywlim/prymer/git/tags{/sha}\",\n",
      "        \"git_url\": \"git://github.com/timothywlim/prymer.git\",\n",
      "        \"has_downloads\": true,\n",
      "        \"has_issues\": false,\n",
      "        \"has_pages\": false,\n",
      "        \"has_projects\": true,\n",
      "        \"has_wiki\": true,\n",
      "        \"homepage\": null,\n",
      "        \"hooks_url\": \"https://api.github.com/repos/timothywlim/prymer/hooks\",\n",
      "        \"html_url\": \"https://github.com/timothywlim/prymer\",\n",
      "        \"id\": 402899345,\n",
      "        \"issue_comment_url\": \"https://api.github.com/repos/timothywlim/prymer/issues/comments{/number}\",\n",
      "        \"issue_events_url\": \"https://api.github.com/repos/timothywlim/prymer/issues/events{/number}\",\n",
      "        \"issues_url\": \"https://api.github.com/repos/timothywlim/prymer/issues{/number}\",\n",
      "        \"keys_url\": \"https://api.github.com/repos/timothywlim/prymer/keys{/key_id}\",\n",
      "        \"labels_url\": \"https://api.github.com/repos/timothywlim/prymer/labels{/name}\",\n",
      "        \"language\": null,\n",
      "        \"languages_url\": \"https://api.github.com/repos/timothywlim/prymer/languages\",\n",
      "        \"license\": null,\n",
      "        \"merges_url\": \"https://api.github.com/repos/timothywlim/prymer/merges\",\n",
      "        \"milestones_url\": \"https://api.github.com/repos/timothywlim/prymer/milestones{/number}\",\n",
      "        \"mirror_url\": null,\n",
      "        \"name\": \"prymer\",\n",
      "        \"node_id\": \"MDEwOlJlcG9zaXRvcnk0MDI4OTkzNDU=\",\n",
      "        \"notifications_url\": \"https://api.github.com/repos/timothywlim/prymer/notifications{?since,all,participating}\",\n",
      "        \"open_issues\": 0,\n",
      "        \"open_issues_count\": 0,\n",
      "        \"owner\": {\n",
      "          \"avatar_url\": \"https://avatars.githubusercontent.com/u/38662177?v=4\",\n",
      "          \"events_url\": \"https://api.github.com/users/timothywlim/events{/privacy}\",\n",
      "          \"followers_url\": \"https://api.github.com/users/timothywlim/followers\",\n",
      "          \"following_url\": \"https://api.github.com/users/timothywlim/following{/other_user}\",\n",
      "          \"gists_url\": \"https://api.github.com/users/timothywlim/gists{/gist_id}\",\n",
      "          \"gravatar_id\": \"\",\n",
      "          \"html_url\": \"https://github.com/timothywlim\",\n",
      "          \"id\": 38662177,\n",
      "          \"login\": \"timothywlim\",\n",
      "          \"node_id\": \"MDQ6VXNlcjM4NjYyMTc3\",\n",
      "          \"organizations_url\": \"https://api.github.com/users/timothywlim/orgs\",\n",
      "          \"received_events_url\": \"https://api.github.com/users/timothywlim/received_events\",\n",
      "          \"repos_url\": \"https://api.github.com/users/timothywlim/repos\",\n",
      "          \"site_admin\": false,\n",
      "          \"starred_url\": \"https://api.github.com/users/timothywlim/starred{/owner}{/repo}\",\n",
      "          \"subscriptions_url\": \"https://api.github.com/users/timothywlim/subscriptions\",\n",
      "          \"type\": \"User\",\n",
      "          \"url\": \"https://api.github.com/users/timothywlim\"\n",
      "        },\n",
      "        \"private\": false,\n",
      "        \"public\": true,\n",
      "        \"pulls_url\": \"https://api.github.com/repos/timothywlim/prymer/pulls{/number}\",\n",
      "        \"pushed_at\": \"2019-09-13T12:47:30Z\",\n",
      "        \"releases_url\": \"https://api.github.com/repos/timothywlim/prymer/releases{/id}\",\n",
      "        \"size\": 64,\n",
      "        \"ssh_url\": \"git@github.com:timothywlim/prymer.git\",\n",
      "        \"stargazers_count\": 0,\n",
      "        \"stargazers_url\": \"https://api.github.com/repos/timothywlim/prymer/stargazers\",\n",
      "        \"statuses_url\": \"https://api.github.com/repos/timothywlim/prymer/statuses/{sha}\",\n",
      "        \"subscribers_url\": \"https://api.github.com/repos/timothywlim/prymer/subscribers\",\n",
      "        \"subscription_url\": \"https://api.github.com/repos/timothywlim/prymer/subscription\",\n",
      "        \"svn_url\": \"https://github.com/timothywlim/prymer\",\n",
      "        \"tags_url\": \"https://api.github.com/repos/timothywlim/prymer/tags\",\n",
      "        \"teams_url\": \"https://api.github.com/repos/timothywlim/prymer/teams\",\n",
      "        \"trees_url\": \"https://api.github.com/repos/timothywlim/prymer/git/trees{/sha}\",\n",
      "        \"updated_at\": \"2021-08-25T07:35:52Z\",\n",
      "        \"url\": \"https://api.github.com/repos/timothywlim/prymer\",\n",
      "        \"watchers\": 0,\n",
      "        \"watchers_count\": 0\n",
      "      }\n",
      "    },\n",
      "    \"public\": true,\n",
      "    \"repo\": {\n",
      "      \"id\": 202786912,\n",
      "      \"name\": \"hpcgarage/prymer\",\n",
      "      \"url\": \"https://api.github.com/repos/hpcgarage/prymer\"\n",
      "    },\n",
      "    \"type\": \"ForkEvent\"\n",
      "  },\n",
      "  {\n",
      "    \"actor\": {\n",
      "      \"avatar_url\": \"https://avatars.githubusercontent.com/u/70837857?\",\n",
      "      \"display_login\": \"lexicalx\",\n",
      "      \"gravatar_id\": \"\",\n",
      "      \"id\": 70837857,\n",
      "      \"login\": \"lexicalx\",\n",
      "      \"url\": \"https://api.github.com/users/lexicalx\"\n",
      "    },\n",
      "    \"created_at\": \"2021-08-31T21:24:46Z\",\n",
      "    \"id\": \"17795397886\",\n",
      "    \"org\": {\n",
      "      \"avatar_url\": \"https://avatars.githubusercontent.com/u/6626190?\",\n",
      "      \"gravatar_id\": \"\",\n",
      "      \"id\": 6626190,\n",
      "      \"login\": \"hpcgarage\",\n",
      "      \"url\": \"https://api.github.com/orgs/hpcgarage\"\n",
      "    },\n",
      "    \"payload\": {\n",
      "      \"forkee\": {\n",
      "        \"archive_url\": \"https://api.github.com/repos/lexicalx/prymer/{archive_format}{/ref}\",\n",
      "        \"archived\": false,\n",
      "        \"assignees_url\": \"https://api.github.com/repos/lexicalx/prymer/assignees{/user}\",\n",
      "        \"blobs_url\": \"https://api.github.com/repos/lexicalx/prymer/git/blobs{/sha}\",\n",
      "        \"branches_url\": \"https://api.github.com/repos/lexicalx/prymer/branches{/branch}\",\n",
      "        \"clone_url\": \"https://github.com/lexicalx/prymer.git\",\n",
      "        \"collaborators_url\": \"https://api.github.com/repos/lexicalx/prymer/collaborators{/collaborator}\",\n",
      "        \"comments_url\": \"https://api.github.com/repos/lexicalx/prymer/comments{/number}\",\n",
      "        \"commits_url\": \"https://api.github.com/repos/lexicalx/prymer/commits{/sha}\",\n",
      "        \"compare_url\": \"https://api.github.com/repos/lexicalx/prymer/compare/{base}...{head}\",\n",
      "        \"contents_url\": \"https://api.github.com/repos/lexicalx/prymer/contents/{+path}\",\n",
      "        \"contributors_url\": \"https://api.github.com/repos/lexicalx/prymer/contributors\",\n",
      "        \"created_at\": \"2021-08-31T21:24:46Z\",\n",
      "        \"default_branch\": \"master\",\n",
      "        \"deployments_url\": \"https://api.github.com/repos/lexicalx/prymer/deployments\",\n",
      "        \"description\": \"A Python primer for Georgia Tech's CSE 6040/x: Computing for Data Analysis\",\n",
      "        \"disabled\": false,\n",
      "        \"downloads_url\": \"https://api.github.com/repos/lexicalx/prymer/downloads\",\n",
      "        \"events_url\": \"https://api.github.com/repos/lexicalx/prymer/events\",\n",
      "        \"fork\": true,\n",
      "        \"forks\": 0,\n",
      "        \"forks_count\": 0,\n",
      "        \"forks_url\": \"https://api.github.com/repos/lexicalx/prymer/forks\",\n",
      "        \"full_name\": \"lexicalx/prymer\",\n",
      "        \"git_commits_url\": \"https://api.github.com/repos/lexicalx/prymer/git/commits{/sha}\",\n",
      "        \"git_refs_url\": \"https://api.github.com/repos/lexicalx/prymer/git/refs{/sha}\",\n",
      "        \"git_tags_url\": \"https://api.github.com/repos/lexicalx/prymer/git/tags{/sha}\",\n",
      "        \"git_url\": \"git://github.com/lexicalx/prymer.git\",\n",
      "        \"has_downloads\": true,\n",
      "        \"has_issues\": false,\n",
      "        \"has_pages\": false,\n",
      "        \"has_projects\": true,\n",
      "        \"has_wiki\": true,\n",
      "        \"homepage\": null,\n",
      "        \"hooks_url\": \"https://api.github.com/repos/lexicalx/prymer/hooks\",\n",
      "        \"html_url\": \"https://github.com/lexicalx/prymer\",\n",
      "        \"id\": 401847079,\n",
      "        \"issue_comment_url\": \"https://api.github.com/repos/lexicalx/prymer/issues/comments{/number}\",\n",
      "        \"issue_events_url\": \"https://api.github.com/repos/lexicalx/prymer/issues/events{/number}\",\n",
      "        \"issues_url\": \"https://api.github.com/repos/lexicalx/prymer/issues{/number}\",\n",
      "        \"keys_url\": \"https://api.github.com/repos/lexicalx/prymer/keys{/key_id}\",\n",
      "        \"labels_url\": \"https://api.github.com/repos/lexicalx/prymer/labels{/name}\",\n",
      "        \"language\": null,\n",
      "        \"languages_url\": \"https://api.github.com/repos/lexicalx/prymer/languages\",\n",
      "        \"license\": null,\n",
      "        \"merges_url\": \"https://api.github.com/repos/lexicalx/prymer/merges\",\n",
      "        \"milestones_url\": \"https://api.github.com/repos/lexicalx/prymer/milestones{/number}\",\n",
      "        \"mirror_url\": null,\n",
      "        \"name\": \"prymer\",\n",
      "        \"node_id\": \"MDEwOlJlcG9zaXRvcnk0MDE4NDcwNzk=\",\n",
      "        \"notifications_url\": \"https://api.github.com/repos/lexicalx/prymer/notifications{?since,all,participating}\",\n",
      "        \"open_issues\": 0,\n",
      "        \"open_issues_count\": 0,\n",
      "        \"owner\": {\n",
      "          \"avatar_url\": \"https://avatars.githubusercontent.com/u/70837857?v=4\",\n",
      "          \"events_url\": \"https://api.github.com/users/lexicalx/events{/privacy}\",\n",
      "          \"followers_url\": \"https://api.github.com/users/lexicalx/followers\",\n",
      "          \"following_url\": \"https://api.github.com/users/lexicalx/following{/other_user}\",\n",
      "          \"gists_url\": \"https://api.github.com/users/lexicalx/gists{/gist_id}\",\n",
      "          \"gravatar_id\": \"\",\n",
      "          \"html_url\": \"https://github.com/lexicalx\",\n",
      "          \"id\": 70837857,\n",
      "          \"login\": \"lexicalx\",\n",
      "          \"node_id\": \"MDQ6VXNlcjcwODM3ODU3\",\n",
      "          \"organizations_url\": \"https://api.github.com/users/lexicalx/orgs\",\n",
      "          \"received_events_url\": \"https://api.github.com/users/lexicalx/received_events\",\n",
      "          \"repos_url\": \"https://api.github.com/users/lexicalx/repos\",\n",
      "          \"site_admin\": false,\n",
      "          \"starred_url\": \"https://api.github.com/users/lexicalx/starred{/owner}{/repo}\",\n",
      "          \"subscriptions_url\": \"https://api.github.com/users/lexicalx/subscriptions\",\n",
      "          \"type\": \"User\",\n",
      "          \"url\": \"https://api.github.com/users/lexicalx\"\n",
      "        },\n",
      "        \"private\": false,\n",
      "        \"public\": true,\n",
      "        \"pulls_url\": \"https://api.github.com/repos/lexicalx/prymer/pulls{/number}\",\n",
      "        \"pushed_at\": \"2019-09-13T12:47:30Z\",\n",
      "        \"releases_url\": \"https://api.github.com/repos/lexicalx/prymer/releases{/id}\",\n",
      "        \"size\": 64,\n",
      "        \"ssh_url\": \"git@github.com:lexicalx/prymer.git\",\n",
      "        \"stargazers_count\": 0,\n",
      "        \"stargazers_url\": \"https://api.github.com/repos/lexicalx/prymer/stargazers\",\n",
      "        \"statuses_url\": \"https://api.github.com/repos/lexicalx/prymer/statuses/{sha}\",\n",
      "        \"subscribers_url\": \"https://api.github.com/repos/lexicalx/prymer/subscribers\",\n",
      "        \"subscription_url\": \"https://api.github.com/repos/lexicalx/prymer/subscription\",\n",
      "        \"svn_url\": \"https://github.com/lexicalx/prymer\",\n",
      "        \"tags_url\": \"https://api.github.com/repos/lexicalx/prymer/tags\",\n",
      "        \"teams_url\": \"https://api.github.com/repos/lexicalx/prymer/teams\",\n",
      "        \"trees_url\": \"https://api.github.com/repos/lexicalx/prymer/git/trees{/sha}\",\n",
      "        \"updated_at\": \"2021-08-25T07:35:52Z\",\n",
      "        \"url\": \"https://api.github.com/repos/lexicalx/prymer\",\n",
      "        \"watchers\": 0,\n",
      "        \"watchers_count\": 0\n",
      "      }\n",
      "    },\n",
      "    \"public\": true,\n",
      "    \"repo\": {\n",
      "      \"id\": 202786912,\n",
      "      \"name\": \"hpcgarage/prymer\",\n",
      "      \"url\": \"https://api.github.com/repos/hpcgarage/prymer\"\n",
      "    },\n",
      "    \"type\": \"ForkEvent\"\n",
      "  }\n",
      "]\n"
     ]
    }
   ],
   "source": [
    "import json\n",
    "print(type(response.json()))\n",
    "print(json.dumps(response.json()[:3], sort_keys=True, indent=2))"
   ]
  },
  {
   "cell_type": "markdown",
   "metadata": {
    "deletable": false,
    "editable": false,
    "nbgrader": {
     "grade": false,
     "grade_id": "cell-5be03b16bcb0c40f",
     "locked": true,
     "schema_version": 1,
     "solution": false
    }
   },
   "source": [
    "**Exercise 0.** It should be self-evident that the JSON response above consists of a sequence of records, which we will refer to as _events_. Each event is associated with an _actor_. Write some code to extract a dictionary of all actors, where the key is the actor's login and the value is the actor's URL."
   ]
  },
  {
   "cell_type": "code",
   "execution_count": 43,
   "metadata": {
    "collapsed": true,
    "nbgrader": {
     "grade": false,
     "grade_id": "extract_actors",
     "locked": false,
     "schema_version": 1,
     "solution": true
    }
   },
   "outputs": [],
   "source": [
    "def extract_actors (json_github_events):\n",
    "    \"\"\"Given JSON records for events in a GitHub repo,\n",
    "    returns a dictionary of the actors and their URLs.\n",
    "    \"\"\"\n",
    "    return {json_github_events[i]['actor']['login']: json_github_events[i]['actor']['url'] \\\n",
    "            for i in range(len(json_github_events))}"
   ]
  },
  {
   "cell_type": "code",
   "execution_count": 44,
   "metadata": {
    "deletable": false,
    "editable": false,
    "nbgrader": {
     "grade": true,
     "grade_id": "extract_actors_test",
     "locked": true,
     "points": 0,
     "schema_version": 1,
     "solution": false
    }
   },
   "outputs": [
    {
     "name": "stdout",
     "output_type": "stream",
     "text": [
      "bxiao98: https://api.github.com/users/bxiao98\n",
      "timothywlim: https://api.github.com/users/timothywlim\n",
      "lexicalx: https://api.github.com/users/lexicalx\n",
      "stevehamilton: https://api.github.com/users/stevehamilton\n",
      "zhanglijiao0713: https://api.github.com/users/zhanglijiao0713\n"
     ]
    }
   ],
   "source": [
    "actor_urls = extract_actors(response.json ())\n",
    "\n",
    "for actor, url in actor_urls.items ():\n",
    "    print ('{}: {}'.format(actor, url))\n",
    "    assert url == \"https://api.github.com/users/{}\".format(actor)"
   ]
  },
  {
   "cell_type": "markdown",
   "metadata": {
    "deletable": false,
    "editable": false,
    "nbgrader": {
     "grade": false,
     "grade_id": "cell-23355ce56dd4dcdc",
     "locked": true,
     "schema_version": 1,
     "solution": false
    }
   },
   "source": [
    "**Exercise 1.** Write some code that goes to each actor's URL and determines their name. If an actor URL is invalid, that actor should not appear in the output."
   ]
  },
  {
   "cell_type": "code",
   "execution_count": 56,
   "metadata": {
    "collapsed": true,
    "nbgrader": {
     "grade": false,
     "grade_id": "get_names",
     "locked": false,
     "schema_version": 1,
     "solution": true
    }
   },
   "outputs": [],
   "source": [
    "def lookup_names (actor_urls):\n",
    "    \"\"\"Given a dictionary of (actor, url) pairs, looks up the JSON at\n",
    "    the URL and extracts the user's name (if any). Returns a new\n",
    "    dictionary of (actor, name) pairs.\n",
    "    \"\"\"\n",
    "    result = dict()\n",
    "    for actor in actor_urls:\n",
    "        try:\n",
    "            response = requests.get(actor_urls[actor])\n",
    "            result[actor] = response.json()['name']\n",
    "        except:\n",
    "            pass\n",
    "    return result"
   ]
  },
  {
   "cell_type": "code",
   "execution_count": 57,
   "metadata": {
    "deletable": false,
    "editable": false,
    "nbgrader": {
     "grade": true,
     "grade_id": "get_names_test",
     "locked": true,
     "points": 0,
     "schema_version": 1,
     "solution": false
    }
   },
   "outputs": [
    {
     "name": "stdout",
     "output_type": "stream",
     "text": [
      "bxiao98: None\n",
      "timothywlim: Timothy Lim\n",
      "lexicalx: None\n",
      "stevehamilton: Steve Hamilton\n",
      "zhanglijiao0713: None\n",
      "\n",
      "(Passed.)\n"
     ]
    }
   ],
   "source": [
    "actor_names = lookup_names (actor_urls)\n",
    "\n",
    "for actor, name in actor_names.items ():\n",
    "    print (\"{}: {}\".format (actor, name))\n",
    "\n",
    "#assert actor_names['SamDuan'] == 'Samuel Duan'\n",
    "#assert actor_names['aelipinski'] == 'OZ10'\n",
    "#assert actor_names['rvuduc'] == 'Rich Vuduc (personal account)'\n",
    "\n",
    "print(\"\\n(Passed.)\")"
   ]
  },
  {
   "cell_type": "markdown",
   "metadata": {
    "deletable": false,
    "editable": false,
    "nbgrader": {
     "grade": false,
     "grade_id": "cell-ae7abfbce62b1cd6",
     "locked": true,
     "schema_version": 1,
     "solution": false
    }
   },
   "source": [
    "That's the end of this notebook. Processing JSON is fairly straightforward, because it maps very naturally to nested dictionaries in Python. You might search the web for other sources of JSON data, including [this one](https://www.yelp.com/dataset/challenge), and do your own processing!"
   ]
  }
 ],
 "metadata": {
  "celltoolbar": "Create Assignment",
  "kernelspec": {
   "display_name": "Python 3 [3.7]",
   "language": "python",
   "name": "python3"
  },
  "language_info": {
   "codemirror_mode": {
    "name": "ipython",
    "version": 3
   },
   "file_extension": ".py",
   "mimetype": "text/x-python",
   "name": "python",
   "nbconvert_exporter": "python",
   "pygments_lexer": "ipython3",
   "version": "3.7.5"
  }
 },
 "nbformat": 4,
 "nbformat_minor": 1
}
